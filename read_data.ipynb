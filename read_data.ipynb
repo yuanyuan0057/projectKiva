{
 "cells": [
  {
   "cell_type": "code",
   "execution_count": 13,
   "metadata": {
    "collapsed": false
   },
   "outputs": [],
   "source": [
    "import pandas as pd\n",
    "import numpy as np\n",
    "import tables\n",
    "import json\n",
    "import unicodedata\n"
   ]
  },
  {
   "cell_type": "code",
   "execution_count": 2,
   "metadata": {
    "collapsed": false
   },
   "outputs": [],
   "source": [
    "df = pd.DataFrame({'A' : ['foo', 'bar', 'foo', 'bar', 'foo', 'bar', 'foo', 'foo'],\n",
    "                   'B' : ['one', 'one', 'two', 'three','two', 'two', 'one', 'three'],\n",
    "                   'C' : np.random.randn(8), 'D' : np.random.randn(8)})"
   ]
  },
  {
   "cell_type": "code",
   "execution_count": 14,
   "metadata": {
    "collapsed": false
   },
   "outputs": [],
   "source": [
    "def try_path(path):\n",
    "    try:\n",
    "        with open(path) as json_file:\n",
    "            json_data = json.load(json_file)\n",
    "        return 1\n",
    "    except:\n",
    "        return 0\n",
    "    "
   ]
  },
  {
   "cell_type": "code",
   "execution_count": 15,
   "metadata": {
    "collapsed": false
   },
   "outputs": [],
   "source": [
    "path = [\"loans/\" + str(i+1) + \".json\" for i in range(1975)]"
   ]
  },
  {
   "cell_type": "code",
   "execution_count": null,
   "metadata": {
    "collapsed": false
   },
   "outputs": [],
   "source": []
  },
  {
   "cell_type": "code",
   "execution_count": 16,
   "metadata": {
    "collapsed": false,
    "scrolled": true
   },
   "outputs": [],
   "source": [
    "def process_file(i):\n",
    "    path = \"loans/\" + str(i+1) + \".json\"\n",
    "    \n",
    "    \n",
    "    with open(path) as json_file:\n",
    "        json_data = json.load(json_file)\n",
    "  \n",
    "    loans = json_data['loans']\n",
    "    df = pd.DataFrame(data=loans)\n",
    "    \n",
    "    variables_to_drop = ['name','payments',\"journal_totals\",\"image\",\"themes\",\"tags\",\"translator\",\"currency_exchange_loss_amount\",\"basket_amount\",\"video\"]\n",
    "    df = df.drop(variables_to_drop, 1)\n",
    "    df['description_language'] = map(lambda x: u'en' if u'en' in x['languages'] else x['languages'][0] , df[\"description\"])\n",
    "    df['description_texts'] = map(lambda x: x['texts'][u'en'] if u'en' in x['languages'] else x['texts'][x['languages'][0]], df[\"description\"])\n",
    "    df = df.drop('description', 1)\n",
    "                                     \n",
    "    return df          "
   ]
  },
  {
   "cell_type": "code",
   "execution_count": 17,
   "metadata": {
    "collapsed": false
   },
   "outputs": [
    {
     "name": "stdout",
     "output_type": "stream",
     "text": [
      "6\n",
      "70\n",
      "100\n",
      "255\n",
      "294\n",
      "342\n",
      "433\n",
      "450\n",
      "483\n",
      "510\n",
      "537\n",
      "607\n",
      "635\n",
      "647\n",
      "765\n"
     ]
    }
   ],
   "source": [
    "for i in range(1975):\n",
    "    if i % 20 == 0:\n",
    "        frames = []\n",
    "    \n",
    "    if (try_path(path[i])==1):\n",
    "        frames.append(process_file(i))    \n",
    "    else:\n",
    "        print(i)\n",
    "        \n",
    "    if i % 20 == 19:\n",
    "        result = pd.concat(frames,ignore_index=True)\n",
    "        filename = \"loan\"+str(i/20+1)\n",
    "        result.to_pickle(filename)\n",
    "\n",
    "result = pd.concat(frames)\n",
    "filename = \"loan\"+str(i/20+1)\n",
    "result.to_pickle(filename)"
   ]
  },
  {
   "cell_type": "code",
   "execution_count": null,
   "metadata": {
    "collapsed": false
   },
   "outputs": [],
   "source": []
  },
  {
   "cell_type": "code",
   "execution_count": null,
   "metadata": {
    "collapsed": false
   },
   "outputs": [],
   "source": []
  },
  {
   "cell_type": "code",
   "execution_count": null,
   "metadata": {
    "collapsed": false
   },
   "outputs": [],
   "source": []
  },
  {
   "cell_type": "code",
   "execution_count": null,
   "metadata": {
    "collapsed": false
   },
   "outputs": [],
   "source": []
  },
  {
   "cell_type": "code",
   "execution_count": null,
   "metadata": {
    "collapsed": false
   },
   "outputs": [],
   "source": []
  },
  {
   "cell_type": "code",
   "execution_count": 105,
   "metadata": {
    "collapsed": false
   },
   "outputs": [],
   "source": []
  },
  {
   "cell_type": "code",
   "execution_count": null,
   "metadata": {
    "collapsed": false
   },
   "outputs": [],
   "source": []
  },
  {
   "cell_type": "code",
   "execution_count": null,
   "metadata": {
    "collapsed": true
   },
   "outputs": [],
   "source": []
  }
 ],
 "metadata": {
  "kernelspec": {
   "display_name": "Python 2",
   "language": "python",
   "name": "python2"
  },
  "language_info": {
   "codemirror_mode": {
    "name": "ipython",
    "version": 2
   },
   "file_extension": ".py",
   "mimetype": "text/x-python",
   "name": "python",
   "nbconvert_exporter": "python",
   "pygments_lexer": "ipython2",
   "version": "2.7.11"
  }
 },
 "nbformat": 4,
 "nbformat_minor": 0
}
